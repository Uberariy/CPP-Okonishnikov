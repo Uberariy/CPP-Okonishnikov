{
  "nbformat": 4,
  "nbformat_minor": 0,
  "metadata": {
    "colab": {
      "name": "economics_3.ipynb",
      "provenance": [],
      "collapsed_sections": []
    },
    "kernelspec": {
      "name": "python3",
      "display_name": "Python 3"
    },
    "language_info": {
      "name": "python"
    }
  },
  "cells": [
    {
      "cell_type": "markdown",
      "metadata": {
        "id": "qQZTAIhP_Xjb"
      },
      "source": [
        "г) Правительство одновременно увеличивает госрасходы с 30\n",
        "до 40 и налоги с 40 до 50:\n",
        "- что происходит с кривой планируемых расходов?\n",
        "\n",
        "См. ниже.\n",
        "- как изменится равновесный уровень дохода?\n",
        "\n",
        "Увеличится на 10.\n",
        "- что происходит с эффектом мультипликатора?\n",
        "\n",
        "См. ниже.\n",
        "- как изменится сальдо госбюджета?\n",
        "\n",
        "В итоге нет профицита бюджета, равно как и дефицита."
      ]
    },
    {
      "cell_type": "code",
      "metadata": {
        "id": "pzuJ_TV0nPva",
        "colab": {
          "base_uri": "https://localhost:8080/"
        },
        "outputId": "6901747d-26e3-4177-94b1-81e02a965f80"
      },
      "source": [
        "# C = 20 + 0.8 (Y + F - T)\n",
        "I = 60; F = 10; G = 30; T = 40;\n",
        "# Y = C + I + G = 20 + 0.8Y + 0.8F - 0.8T + I + G\n",
        "Y = (1/0.2)*(20+0.8*F-0.8*T+I+G)\n",
        "print(Y)"
      ],
      "execution_count": 2,
      "outputs": [
        {
          "output_type": "stream",
          "name": "stdout",
          "text": [
            "430.0\n"
          ]
        }
      ]
    },
    {
      "cell_type": "code",
      "metadata": {
        "colab": {
          "base_uri": "https://localhost:8080/"
        },
        "id": "pgXSekd4DGT3",
        "outputId": "e0556ef0-12a2-48c6-f5a1-f5b3c9893f5a"
      },
      "source": [
        "# ПРАВИТЕЛЬСТВО ВМЕШИВАЕТСЯ:\n",
        "G2 = 40; T2 = 50\n",
        "Y = (1/0.2)*(0.8*(F-F)-0.8*(T2-T)+I-I+G2-G)\n",
        "print(Y)"
      ],
      "execution_count": 4,
      "outputs": [
        {
          "output_type": "stream",
          "name": "stdout",
          "text": [
            "10.0\n"
          ]
        }
      ]
    },
    {
      "cell_type": "code",
      "metadata": {
        "id": "8q7GXPFeFzJm"
      },
      "source": [
        "# Коэффициенты при T и G:\n",
        "mT = 4; mG = 5;"
      ],
      "execution_count": 8,
      "outputs": []
    },
    {
      "cell_type": "code",
      "metadata": {
        "colab": {
          "base_uri": "https://localhost:8080/"
        },
        "id": "RbwM_NXAJYsY",
        "outputId": "56ec455b-f5ff-4c44-b802-1fe1398df04b"
      },
      "source": [
        "# Эффект мультипликатора:\n",
        "print(mG/(mG-mT) - mT/(mG-mT))"
      ],
      "execution_count": 9,
      "outputs": [
        {
          "output_type": "stream",
          "name": "stdout",
          "text": [
            "1.0\n"
          ]
        }
      ]
    },
    {
      "cell_type": "code",
      "metadata": {
        "id": "qhWZ5z7WKABr"
      },
      "source": [
        ""
      ],
      "execution_count": null,
      "outputs": []
    }
  ]
}