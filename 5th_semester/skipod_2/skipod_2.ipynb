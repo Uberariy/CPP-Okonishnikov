{
  "nbformat": 4,
  "nbformat_minor": 0,
  "metadata": {
    "colab": {
      "name": "skipod_2.ipynb",
      "provenance": [],
      "collapsed_sections": []
    },
    "kernelspec": {
      "name": "python3",
      "display_name": "Python 3"
    },
    "language_info": {
      "name": "python"
    }
  },
  "cells": [
    {
      "cell_type": "markdown",
      "source": [
        "### **Практическое задание на тему суперкомпьютеров с использованием технологии MPI: Отчёт.**\n",
        "\n",
        "\n",
        "#### **[Оконишников Арий Ариевич, 321 группа]**\n",
        "\n",
        "Данный отчёт дополняет предыдущий, что находится в файле skipod_1.ipybn || skipod_1.pdf\n",
        "\n",
        "В настоящей работе была реализована параллельная версия алгоритма вычисления определителя матрицы приведением к верхнетреугольному виду. Аналогично версии с OpenMP, сам алгоритм реализован в функции **double det(int N)**."
      ],
      "metadata": {
        "id": "doit6_0EOzZV"
      }
    },
    {
      "cell_type": "code",
      "source": [
        "\n",
        "double det(int N, int myrank, int ranksize)\n",
        "{\n",
        "\tint i,j,k;\n",
        "\tdouble **A, tmp;\n",
        "    A = (double**)malloc(sizeof(double*)*N);\n",
        "    for(i = 0; i < N; i++) {\n",
        "        A[i] = (double*)malloc(sizeof(double)*N);\n",
        "    }\n",
        "\tsrand(42);\n",
        "\n",
        "\tfor (i = 0; i < N; i++ ) \n",
        "\t{\n",
        "\t\tfor (j = 0; j < N; j++ ) \n",
        "\t\t{\n",
        "\t\t\tA[i][j] = (double)(rand()%10000)/((double)12000);\n",
        "\t\t}\n",
        "\t}\n",
        "\n",
        "\tdouble *L;\n",
        "\tL = (double*)malloc(sizeof(double)*N);\n",
        "\tfor (i = 0; i < N; i++) \n",
        "\t{ \t\n",
        "\t\tfor (k = i; k < N; k++)\n",
        "\t\t{\n",
        "\t\t\tif (A[k][i] != 0)\n",
        "\t\t\t{\n",
        "\t\t\t\tfor (j = 0; j < N; j++)\n",
        "\t\t\t\t{\n",
        "\t\t\t\t\tL[j] = A[k][j];\n",
        "\t\t\t\t}\n",
        "\t\t\t\tbreak;\n",
        "\t\t\t}\n",
        "\t\t}\n",
        "\t\tdouble *Weights;\n",
        "\t\tWeights = (double*)malloc(sizeof(double)*N);\n",
        "\n",
        "\t\tif (myrank==0)\n",
        "\t\tfor (k = i+1; k < N; k++)\n",
        "\t\t{\n",
        "\t\t\tWeights[k] = A[k][i];\n",
        "\t\t}\n",
        "\t\tMPI_Bcast(&Weights[i+1], N-i-1, MPI_DOUBLE, 0, MPI_COMM_WORLD);\n",
        "\n",
        "\t\tfor (k = myrank; k < N; k += ranksize)\n",
        "\t\t{\n",
        "\t\t\tif (k < i+1)\n",
        "\t\t\t\tcontinue;\n",
        "\t\t\ttmp = L[i] / Weights[k];\n",
        "\t\t\tif (A[k][i] != 0)\n",
        "\t\t\t{\n",
        "\t\t\t\tfor (j = 0; j < N; j++) \n",
        "\t\t\t\t{\n",
        "\t\t\t\t\tA[k][j] -= L[j] / tmp;\n",
        "\t\t\t\t}\t\n",
        "\t\t\t}\t\t\n",
        "\t\t}\n",
        "\t\tfor (k = i+1; k < N; k++)\n",
        "\t\t{\n",
        "\t\t\tMPI_Bcast(&A[k][0], N, MPI_DOUBLE, k % ranksize, MPI_COMM_WORLD);\n",
        "\t\t}\n",
        "\t}\n",
        "\n",
        "\tdouble det=1;\n",
        "\tfor (i = 0; i < N; i++) \n",
        "\t\tdet *= A[i][i];\n",
        "\t\n",
        "\tfree(L);\n",
        "\tfree(A);\n",
        "\treturn det;\n",
        "}"
      ],
      "metadata": {
        "id": "n05kFCn4PUI9"
      },
      "execution_count": null,
      "outputs": []
    },
    {
      "cell_type": "markdown",
      "source": [
        "Функция получает на вход целое число N - размер матрицы, которая будет сгенерированна рандомно, но с учетом сида srand(42), а возвращает число - получившийся определитель.\n",
        "\n",
        "Для каждого вызова функции высчитывается время нахождения управления внутри функции, т.е время выполнения. Она вызывается по три раза для каждого набора параметров, затем берется среднее из полученных отрезков времени для коррекциии возможных выбросов."
      ],
      "metadata": {
        "id": "A1BMWcvXQ5UV"
      }
    },
    {
      "cell_type": "code",
      "source": [
        "int main(int argc, char **argv)\n",
        "{\n",
        "\tint ranksize, myrank;\n",
        "\n",
        "\tMPI_Init(&argc, &argv);\n",
        "\tMPI_Comm_size(MPI_COMM_WORLD, &ranksize);\n",
        "    MPI_Comm_rank(MPI_COMM_WORLD, &myrank);\n",
        "\n",
        "\tint i, j, k;\n",
        "\tint N[5] = {50, 100, 500, 1000, 2000};\n",
        "\tdouble start1, finish1, runing_t, res;\n",
        "\n",
        "\tfor (i = 0; i < 5; i++) \n",
        "\t{\n",
        "\t\truning_t = 0;\n",
        "\t\tfor (k = 0; k < 3; k++)\n",
        "\t\t{\n",
        "\t\t\tif (myrank == 0)\n",
        "\t\t\t\tstart1 = MPI_Wtime();\n",
        "\n",
        "\t\t\tres = det(N[i], myrank, ranksize);\n",
        "\n",
        "\t\t\tif (myrank == 0)\n",
        "\t\t\t{\n",
        "\t\t\t\tfinish1 = MPI_Wtime();\n",
        "\t\t\t\truning_t += finish1-start1;\n",
        "\t\t\t}\n",
        "\t\t}\n",
        "\t\tif (myrank == 0)\n",
        "\t\t\tprintf (\"Size: %d, \\t, Processes: %d, \\tTime: %f s, \\tResult: %f\\n\", N[i], ranksize, runing_t/((double)3), res);\n",
        "\t}\n",
        "\tMPI_Finalize();\n",
        "}"
      ],
      "metadata": {
        "id": "ejFqV6SzRJzA"
      },
      "execution_count": null,
      "outputs": []
    },
    {
      "cell_type": "markdown",
      "source": [
        "Данная программа запускается **Processes** число раз - для каждого числа процессов - отдельно. Число процессов выбиралось как степень двойки.\n",
        "\n",
        "Подсчёт времени происходит засчёт вызова функции **MPI_Wtime()**.\n",
        "\n",
        "Полученные результаты, включая значение определятеля (для проверки на правильность выполнения) выводятся на машине **bluegene** в файлы типа mpi_determinant.XXXXXXXX.out, из которых затем формурется merged_data.txt. А затем формируется датасет для визуализации времени выполнения программы."
      ],
      "metadata": {
        "id": "zYOUWyJYZiDs"
      }
    },
    {
      "cell_type": "markdown",
      "source": [
        "**merged_data.txt:**\n",
        "\n",
        "      \n",
        "      Size: 50,       , Processes: 2,         Time: 0.011707 s,       Result: 303.743470\n",
        "      Size: 100,      , Processes: 2,         Time: 0.067955 s,       Result: 354814476506543168.000000\n",
        "      Size: 500,      , Processes: 2,         Time: 5.939376 s,       Result: -111362502093081580696465357284349185141363634897860682081340490644453157477161850635769268008697701995163426412074897176298268911344098887448300193484020670589768438546239390998666552323643659310947053350472334322427970015973449055290417555491238851534389248.000000\n",
        "      Size: 1000,     , Processes: 2,         Time: 43.659187 s,      Result: inf\n",
        "      Size: 2000,     , Processes: 2,         Time: 333.218916 s,     Result: inf\n",
        "      Size: 50,       , Processes: 4,         Time: 0.008479 s,       Result: 303.743470\n",
        "      Size: 100,      , Processes: 4,         Time: 0.045922 s,       Result: 354814476506543168.000000\n",
        "      Size: 500,      , Processes: 4,         Time: 3.331295 s,       Result: -111362502093081580696465357284349185141363634897860682081340490644453157477161850635769268008697701995163426412074897176298268911344098887448300193484020670589768438546239390998666552323643659310947053350472334322427970015973449055290417555491238851534389248.000000\n",
        "      Size: 1000,     , Processes: 4,         Time: 24.790733 s,      Result: inf\n",
        "      Size: 2000,     , Processes: 4,         Time: 196.285970 s,     Result: inf\n",
        "      Size: 50,       , Processes: 8,         Time: 0.007674 s,       Result: 303.743470\n",
        "      Size: 100,      , Processes: 8,         Time: 0.039481 s,       Result: 354814476506543168.000000\n",
        "      Size: 500,      , Processes: 8,         Time: 2.444455 s,       Result: -111362502093081580696465357284349185141363634897860682081340490644453157477161850635769268008697701995163426412074897176298268911344098887448300193484020670589768438546239390998666552323643659310947053350472334322427970015973449055290417555491238851534389248.000000\n",
        "      Size: 1000,     , Processes: 8,         Time: 17.629265 s,      Result: inf\n",
        "      Size: 2000,     , Processes: 8,         Time: 138.709302 s,     Result: inf\n",
        "      Size: 50,       , Processes: 16,        Time: 0.007603 s,       Result: 303.743470\n",
        "      Size: 100,      , Processes: 16,        Time: 0.037693 s,       Result: 354814476506543168.000000\n",
        "      Size: 500,      , Processes: 16,        Time: 2.021233 s,       Result: -111362502093081580696465357284349185141363634897860682081340490644453157477161850635769268008697701995163426412074897176298268911344098887448300193484020670589768438546239390998666552323643659310947053350472334322427970015973449055290417555491238851534389248.000000\n",
        "      Size: 1000,     , Processes: 16,        Time: 14.134929 s,      Result: inf\n",
        "      Size: 2000,     , Processes: 16,        Time: 110.395047 s,     Result: inf\n",
        "      Size: 50,       , Processes: 32,        Time: 0.007437 s,       Result: 303.743470\n",
        "      Size: 100,      , Processes: 32,        Time: 0.036070 s,       Result: 354814476506543168.000000\n",
        "      Size: 500,      , Processes: 32,        Time: 1.794385 s,       Result: -111362502093081580696465357284349185141363634897860682081340490644453157477161850635769268008697701995163426412074897176298268911344098887448300193484020670589768438546239390998666552323643659310947053350472334322427970015973449055290417555491238851534389248.000000\n",
        "      Size: 1000,     , Processes: 32,        Time: 12.368385 s,      Result: inf\n",
        "      Size: 2000,     , Processes: 32,        Time: 96.064403 s,      Result: inf\n",
        "      Size: 50,       , Processes: 64,        Time: 0.008449 s,       Result: 303.743470\n",
        "      Size: 100,      , Processes: 64,        Time: 0.039738 s,       Result: 354814476506543168.000000\n",
        "      Size: 500,      , Processes: 64,        Time: 1.765694 s,       Result: -111362502093081580696465357284349185141363634897860682081340490644453157477161850635769268008697701995163426412074897176298268911344098887448300193484020670589768438546239390998666552323643659310947053350472334322427970015973449055290417555491238851534389248.000000\n",
        "      Size: 1000,     , Processes: 64,        Time: 11.843275 s,      Result: inf\n",
        "      Size: 2000,     , Processes: 64,        Time: 91.722341 s,      Result: inf\n",
        "      Size: 50,       , Processes: 128,       Time: 0.008399 s,       Result: 303.743470\n",
        "      Size: 100,      , Processes: 128,       Time: 0.039257 s,       Result: 354814476506543168.000000\n",
        "      Size: 500,      , Processes: 128,       Time: 1.707620 s,       Result: -111362502093081580696465357284349185141363634897860682081340490644453157477161850635769268008697701995163426412074897176298268911344098887448300193484020670589768438546239390998666552323643659310947053350472334322427970015973449055290417555491238851534389248.000000\n",
        "      Size: 1000,     , Processes: 128,       Time: 11.371319 s,      Result: inf\n",
        "      Size: 2000,     , Processes: 128,       Time: 88.314707 s,      Result: inf\n"
      ],
      "metadata": {
        "id": "G7xq_M52RpK1"
      }
    },
    {
      "cell_type": "code",
      "source": [
        "data.tail(10)"
      ],
      "metadata": {
        "colab": {
          "base_uri": "https://localhost:8080/",
          "height": 363
        },
        "id": "okzhtjawUTWk",
        "outputId": "b1b39fd9-6ce4-46d2-9c21-92a86e53adb8"
      },
      "execution_count": 17,
      "outputs": [
        {
          "output_type": "execute_result",
          "data": {
            "text/html": [
              "\n",
              "  <div id=\"df-dee35271-889f-4d8d-bf34-500118d06101\">\n",
              "    <div class=\"colab-df-container\">\n",
              "      <div>\n",
              "<style scoped>\n",
              "    .dataframe tbody tr th:only-of-type {\n",
              "        vertical-align: middle;\n",
              "    }\n",
              "\n",
              "    .dataframe tbody tr th {\n",
              "        vertical-align: top;\n",
              "    }\n",
              "\n",
              "    .dataframe thead th {\n",
              "        text-align: right;\n",
              "    }\n",
              "</style>\n",
              "<table border=\"1\" class=\"dataframe\">\n",
              "  <thead>\n",
              "    <tr style=\"text-align: right;\">\n",
              "      <th></th>\n",
              "      <th>processes_Amount</th>\n",
              "      <th>Size</th>\n",
              "      <th>log_Time</th>\n",
              "      <th>real_Time</th>\n",
              "    </tr>\n",
              "  </thead>\n",
              "  <tbody>\n",
              "    <tr>\n",
              "      <th>25</th>\n",
              "      <td>64</td>\n",
              "      <td>50</td>\n",
              "      <td>0.008414</td>\n",
              "      <td>0.008449</td>\n",
              "    </tr>\n",
              "    <tr>\n",
              "      <th>26</th>\n",
              "      <td>64</td>\n",
              "      <td>100</td>\n",
              "      <td>0.038969</td>\n",
              "      <td>0.039738</td>\n",
              "    </tr>\n",
              "    <tr>\n",
              "      <th>27</th>\n",
              "      <td>64</td>\n",
              "      <td>500</td>\n",
              "      <td>1.017292</td>\n",
              "      <td>1.765694</td>\n",
              "    </tr>\n",
              "    <tr>\n",
              "      <th>28</th>\n",
              "      <td>64</td>\n",
              "      <td>1000</td>\n",
              "      <td>2.552820</td>\n",
              "      <td>11.843275</td>\n",
              "    </tr>\n",
              "    <tr>\n",
              "      <th>29</th>\n",
              "      <td>64</td>\n",
              "      <td>2000</td>\n",
              "      <td>4.529609</td>\n",
              "      <td>91.722341</td>\n",
              "    </tr>\n",
              "    <tr>\n",
              "      <th>30</th>\n",
              "      <td>128</td>\n",
              "      <td>50</td>\n",
              "      <td>0.008364</td>\n",
              "      <td>0.008399</td>\n",
              "    </tr>\n",
              "    <tr>\n",
              "      <th>31</th>\n",
              "      <td>128</td>\n",
              "      <td>100</td>\n",
              "      <td>0.038506</td>\n",
              "      <td>0.039257</td>\n",
              "    </tr>\n",
              "    <tr>\n",
              "      <th>32</th>\n",
              "      <td>128</td>\n",
              "      <td>500</td>\n",
              "      <td>0.996070</td>\n",
              "      <td>1.707620</td>\n",
              "    </tr>\n",
              "    <tr>\n",
              "      <th>33</th>\n",
              "      <td>128</td>\n",
              "      <td>1000</td>\n",
              "      <td>2.515381</td>\n",
              "      <td>11.371319</td>\n",
              "    </tr>\n",
              "    <tr>\n",
              "      <th>34</th>\n",
              "      <td>128</td>\n",
              "      <td>2000</td>\n",
              "      <td>4.492166</td>\n",
              "      <td>88.314707</td>\n",
              "    </tr>\n",
              "  </tbody>\n",
              "</table>\n",
              "</div>\n",
              "      <button class=\"colab-df-convert\" onclick=\"convertToInteractive('df-dee35271-889f-4d8d-bf34-500118d06101')\"\n",
              "              title=\"Convert this dataframe to an interactive table.\"\n",
              "              style=\"display:none;\">\n",
              "        \n",
              "  <svg xmlns=\"http://www.w3.org/2000/svg\" height=\"24px\"viewBox=\"0 0 24 24\"\n",
              "       width=\"24px\">\n",
              "    <path d=\"M0 0h24v24H0V0z\" fill=\"none\"/>\n",
              "    <path d=\"M18.56 5.44l.94 2.06.94-2.06 2.06-.94-2.06-.94-.94-2.06-.94 2.06-2.06.94zm-11 1L8.5 8.5l.94-2.06 2.06-.94-2.06-.94L8.5 2.5l-.94 2.06-2.06.94zm10 10l.94 2.06.94-2.06 2.06-.94-2.06-.94-.94-2.06-.94 2.06-2.06.94z\"/><path d=\"M17.41 7.96l-1.37-1.37c-.4-.4-.92-.59-1.43-.59-.52 0-1.04.2-1.43.59L10.3 9.45l-7.72 7.72c-.78.78-.78 2.05 0 2.83L4 21.41c.39.39.9.59 1.41.59.51 0 1.02-.2 1.41-.59l7.78-7.78 2.81-2.81c.8-.78.8-2.07 0-2.86zM5.41 20L4 18.59l7.72-7.72 1.47 1.35L5.41 20z\"/>\n",
              "  </svg>\n",
              "      </button>\n",
              "      \n",
              "  <style>\n",
              "    .colab-df-container {\n",
              "      display:flex;\n",
              "      flex-wrap:wrap;\n",
              "      gap: 12px;\n",
              "    }\n",
              "\n",
              "    .colab-df-convert {\n",
              "      background-color: #E8F0FE;\n",
              "      border: none;\n",
              "      border-radius: 50%;\n",
              "      cursor: pointer;\n",
              "      display: none;\n",
              "      fill: #1967D2;\n",
              "      height: 32px;\n",
              "      padding: 0 0 0 0;\n",
              "      width: 32px;\n",
              "    }\n",
              "\n",
              "    .colab-df-convert:hover {\n",
              "      background-color: #E2EBFA;\n",
              "      box-shadow: 0px 1px 2px rgba(60, 64, 67, 0.3), 0px 1px 3px 1px rgba(60, 64, 67, 0.15);\n",
              "      fill: #174EA6;\n",
              "    }\n",
              "\n",
              "    [theme=dark] .colab-df-convert {\n",
              "      background-color: #3B4455;\n",
              "      fill: #D2E3FC;\n",
              "    }\n",
              "\n",
              "    [theme=dark] .colab-df-convert:hover {\n",
              "      background-color: #434B5C;\n",
              "      box-shadow: 0px 1px 3px 1px rgba(0, 0, 0, 0.15);\n",
              "      filter: drop-shadow(0px 1px 2px rgba(0, 0, 0, 0.3));\n",
              "      fill: #FFFFFF;\n",
              "    }\n",
              "  </style>\n",
              "\n",
              "      <script>\n",
              "        const buttonEl =\n",
              "          document.querySelector('#df-dee35271-889f-4d8d-bf34-500118d06101 button.colab-df-convert');\n",
              "        buttonEl.style.display =\n",
              "          google.colab.kernel.accessAllowed ? 'block' : 'none';\n",
              "\n",
              "        async function convertToInteractive(key) {\n",
              "          const element = document.querySelector('#df-dee35271-889f-4d8d-bf34-500118d06101');\n",
              "          const dataTable =\n",
              "            await google.colab.kernel.invokeFunction('convertToInteractive',\n",
              "                                                     [key], {});\n",
              "          if (!dataTable) return;\n",
              "\n",
              "          const docLinkHtml = 'Like what you see? Visit the ' +\n",
              "            '<a target=\"_blank\" href=https://colab.research.google.com/notebooks/data_table.ipynb>data table notebook</a>'\n",
              "            + ' to learn more about interactive tables.';\n",
              "          element.innerHTML = '';\n",
              "          dataTable['output_type'] = 'display_data';\n",
              "          await google.colab.output.renderOutput(dataTable, element);\n",
              "          const docLink = document.createElement('div');\n",
              "          docLink.innerHTML = docLinkHtml;\n",
              "          element.appendChild(docLink);\n",
              "        }\n",
              "      </script>\n",
              "    </div>\n",
              "  </div>\n",
              "  "
            ],
            "text/plain": [
              "    processes_Amount  Size  log_Time  real_Time\n",
              "25                64    50  0.008414   0.008449\n",
              "26                64   100  0.038969   0.039738\n",
              "27                64   500  1.017292   1.765694\n",
              "28                64  1000  2.552820  11.843275\n",
              "29                64  2000  4.529609  91.722341\n",
              "30               128    50  0.008364   0.008399\n",
              "31               128   100  0.038506   0.039257\n",
              "32               128   500  0.996070   1.707620\n",
              "33               128  1000  2.515381  11.371319\n",
              "34               128  2000  4.492166  88.314707"
            ]
          },
          "metadata": {},
          "execution_count": 17
        }
      ]
    },
    {
      "cell_type": "markdown",
      "source": [
        "В колонке **log_Time** содержутся логарифмы от времени выполнения программы, когда в **real_Time** неизмененное время."
      ],
      "metadata": {
        "id": "JndMrSUaUOKn"
      }
    },
    {
      "cell_type": "code",
      "source": [
        "plt.figure(figsize=(11,7))\n",
        "plt.title('Зависимость времени выполнения программы, от чиста размера матрицы и числа потоков')\n",
        "sns.barplot(data=data, x=\"Size\", hue=\"processes_Amount\", y=\"log_Time\")\n",
        "plt.xlabel('Размер матрицы')\n",
        "plt.ylabel('Логарифмическое время выполнения в секундах')\n",
        "\n",
        "plt.show()"
      ],
      "metadata": {
        "colab": {
          "base_uri": "https://localhost:8080/",
          "height": 458
        },
        "id": "aYb43SPyUNSm",
        "outputId": "31ebd716-93ac-4cdc-8bbd-d965f516ed79"
      },
      "execution_count": 18,
      "outputs": [
        {
          "output_type": "display_data",
          "data": {
            "image/png": "[encoded data removed]",
            "text/plain": [
              "<Figure size 792x504 with 1 Axes>"
            ]
          },
          "metadata": {
            "needs_background": "light"
          }
        }
      ]
    },
    {
      "cell_type": "markdown",
      "source": [
        "Проведем анализ полученных результатов. При увеличении числа процессов вовлеченных в работу, время выполнениея уменьшается. Однако заметим, что в целом время выполнения программы на MPI больше времени выполнения на OpenMP при том же размере матрицы. \n",
        "\n",
        "(Изобразить OpenMP и MPI на одном графике не очень корректно, так как OpenMP использует нити в качестве входного параметра, а MPI - процессы)\n",
        "\n",
        "#### **Объясним, почему:**\n"
      ],
      "metadata": {
        "id": "9QPgF10YUNjt"
      }
    },
    {
      "cell_type": "markdown",
      "source": [
        "OpenMP работает с тредами, в то время как MPI с процессами. Межпроцессорное взаимодействие порой вызывает немалые накладные расходы, и это как раз тот случай.\n",
        "\n",
        "Алгоритм приведения матрицы к верхнетреугольному виду устроен так, что на каждой итерации внешнего цикла требуется обновлять N-i последних строк матрицы у всех процессов. Осуществляется это посредством **MPI_Bcast**, так как каждому процессу нужно передать данные всем остальным.\n",
        "\n",
        "Выходит, что данной задаче OpenMP реализация подходит лучше."
      ],
      "metadata": {
        "id": "eBJj8O8yhN0A"
      }
    },
    {
      "cell_type": "markdown",
      "source": [
        "#### **Проблемы недостаточной масштабируемости программы аналогичны по сравнению с OpenMP программой:**"
      ],
      "metadata": {
        "id": "a8B0bGcfhSPU"
      }
    },
    {
      "cell_type": "markdown",
      "source": [
        "\n",
        "\n",
        "Продублируем, что с каждой итерацией последнего блока for в тройном цикле, максимальное число процессов, которые могут быть задействованы в решении задачи уменьшается. Это естественно для поставленной задачи приведения матрицы к верхнетреугольному виду. На **m-ой** итерации цикла можно задействовать максимум **N-m-1** процессов (максимум, потому что в случае, если у матрицы много нулей на разных позициях, задействуем еще меньше потоков). **Выходит, с каждым задействованным процессом, всё меньше процессов будут работать эффективно.** Точно можно сказать, что использовать больше чем **N-1** потоков абсолютно бессмысленно и не даст увеличения по времени.\n",
        "\n",
        "**Судя по полученным результатам** можем утверждать, что на больших данных использовать больше 64 процессов становиться экспоненциально невыгодно по времени, так как выигрыш незначителен.\n",
        "\n",
        "Подводя итог, отметим, что для решаемой задачи, вопрос об оптимальном выборе числа процессов также зависит от двух факторов:\n",
        "1. Важность загрузки всех процессоров\n",
        "2. Важность прироста скорости\n",
        "\n",
        "Исходя из этих двух причин мы выбираем число используемых процессов **1 <= processes_Amount <= N-1**."
      ],
      "metadata": {
        "id": "ThyNImOwfcBC"
      }
    }
  ]
}